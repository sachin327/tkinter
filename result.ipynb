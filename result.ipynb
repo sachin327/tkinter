{
 "cells": [
  {
   "cell_type": "code",
   "execution_count": 3,
   "metadata": {},
   "outputs": [],
   "source": [
    "import cv2\n",
    "import numpy as np"
   ]
  },
  {
   "cell_type": "code",
   "execution_count": 4,
   "metadata": {},
   "outputs": [],
   "source": [
    "from keras.models import load_model"
   ]
  },
  {
   "cell_type": "code",
   "execution_count": 5,
   "metadata": {},
   "outputs": [],
   "source": [
    "model=load_model('MRL.h5')"
   ]
  },
  {
   "cell_type": "code",
   "execution_count": 6,
   "metadata": {},
   "outputs": [],
   "source": [
    "import time"
   ]
  },
  {
   "cell_type": "code",
   "execution_count": 11,
   "metadata": {},
   "outputs": [],
   "source": [
    "from tkinter import *\n",
    "\n",
    "def mk(cap,face_cascade,l,font,model):\n",
    "    root = Tk()\n",
    "    mylabel=Label(root,text=\"Please close your eyes!\")\n",
    "    mylabel.config(font=(\"Courier\", 44))\n",
    "    mylabel.pack()\n",
    "    def task():\n",
    "        while(cap.isOpened()):\n",
    "            ret, frame = cap.read()\n",
    "            gray = cv2.cvtColor(frame, cv2.COLOR_BGR2GRAY)\n",
    "            faces = face_cascade.detectMultiScale(gray, 1.1, 4)\n",
    "\n",
    "            for (x, y, w, h) in faces:\n",
    "                im=gray[y+h//4: y+h//2,x+w//8:x+w//2]\n",
    "                im=Image.fromarray(im)\n",
    "                im=im.resize((80,80))\n",
    "                im=np.array(im)\n",
    "                im=im.reshape(1,80,80,1)\n",
    "                p = model.predict_classes(im)\n",
    "                overlay_text = \"%s \" % (l[p[0]])\n",
    "                cv2.rectangle(frame, (x+w//8, y+h//4), (x+w//2, y+h//2), (255, 0, 0), 2)\n",
    "                cv2.putText(frame, overlay_text, (x+w//6, y+h//4), font, 1, (0, 255, 0), 2, cv2.LINE_AA)\n",
    "                cv2.imshow('frame',frame)\n",
    "            if(p[0]==0):\n",
    "                break\n",
    "        root.destroy()\n",
    "    root.after(100, task)\n",
    "    root.mainloop()"
   ]
  },
  {
   "cell_type": "code",
   "execution_count": 12,
   "metadata": {},
   "outputs": [],
   "source": [
    "from PIL import Image"
   ]
  },
  {
   "cell_type": "code",
   "execution_count": 15,
   "metadata": {},
   "outputs": [],
   "source": [
    "n=10\n",
    "cap = cv2.VideoCapture(700)\n",
    "face_cascade = cv2.CascadeClassifier('haarcascade_frontalface_default.xml')\n",
    "l=['closed','open']\n",
    "start=time.time() \n",
    "font = cv2.FONT_HERSHEY_SIMPLEX\n",
    "while(cap.isOpened()):\n",
    "    ret, frame = cap.read()\n",
    "    gray = cv2.cvtColor(frame, cv2.COLOR_BGR2GRAY)\n",
    "    faces = face_cascade.detectMultiScale(gray, 1.1, 4)\n",
    "\n",
    "    for (x, y, w, h) in faces:\n",
    "        im=gray[y+h//4: y+h//2,x+w//8:x+w//2]\n",
    "        im=Image.fromarray(im)\n",
    "        im=im.resize((80,80))\n",
    "        im=np.array(im)\n",
    "        im=im.reshape(1,80,80,1)\n",
    "        p = model.predict_classes(im)\n",
    "        overlay_text = \"%s \" % (l[p[0]])\n",
    "        cv2.rectangle(frame, (x+w//8, y+h//4), (x+w//2, y+h//2), (255, 0, 0), 2)\n",
    "        cv2.putText(frame, overlay_text, (x+w//6, y+h//4), font, 1, (0, 255, 0), 2, cv2.LINE_AA)\n",
    "        cv2.imshow('frame',frame)\n",
    "        if(p[0]==0):\n",
    "            start=time.time()\n",
    "        elif((time.time()-start)>=n):\n",
    "            mk(cap,face_cascade,l,font,model) \n",
    "            start=time.time()\n",
    "        \n",
    "    if cv2.waitKey(1) & 0xFF == ord('q'):\n",
    "        break\n",
    "cap.release()\n",
    "cv2.destroyAllWindows()"
   ]
  },
  {
   "cell_type": "code",
   "execution_count": null,
   "metadata": {},
   "outputs": [],
   "source": []
  },
  {
   "cell_type": "code",
   "execution_count": null,
   "metadata": {},
   "outputs": [],
   "source": []
  },
  {
   "cell_type": "code",
   "execution_count": null,
   "metadata": {},
   "outputs": [],
   "source": []
  }
 ],
 "metadata": {
  "kernelspec": {
   "display_name": "Python 3",
   "language": "python",
   "name": "python3"
  },
  "language_info": {
   "codemirror_mode": {
    "name": "ipython",
    "version": 3
   },
   "file_extension": ".py",
   "mimetype": "text/x-python",
   "name": "python",
   "nbconvert_exporter": "python",
   "pygments_lexer": "ipython3",
   "version": "3.8.4"
  }
 },
 "nbformat": 4,
 "nbformat_minor": 4
}
